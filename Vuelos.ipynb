{
 "cells": [
  {
   "attachments": {},
   "cell_type": "markdown",
   "metadata": {},
   "source": [
    "#### Homework \n",
    "###### Laura Mantilla \n",
    "###### Realizar una consulta y traer la lista de vuelos de todo el siguiente mes desde bogota hacia algun destino,ordenados desde el mas barato al mas caro, mostrar el precio y la aerolinea."
   ]
  },
  {
   "cell_type": "code",
   "execution_count": 25,
   "metadata": {},
   "outputs": [
    {
     "name": "stdout",
     "output_type": "stream",
     "text": [
      "Latam Airlines:  {'2023-04-01': ['282.310,00', '258.870,00', '422.620,00', '1.243.830,00', '1.265.730,00'], '2023-04-02': ['258.870,00', '294.810,00', '282.310,00', '353.950,00', '389.890,00'], '2023-04-03': ['258.870,00', '353.950,00', '375.850,00'], '2023-04-04': ['258.870,00', '353.950,00', '423.090,00', '325.750,00'], '2023-04-05': ['258.870,00', '294.810,00', '313.250,00', '422.620,00', '1.265.730,00'], '2023-04-06': ['258.870,00', '422.620,00', '389.890,00'], '2023-04-07': ['258.870,00', '422.620,00', '389.890,00'], '2023-04-08': ['258.870,00', '282.310,00', '353.950,00', '622.180,00', '1.265.730,00'], '2023-04-09': ['258.870,00', '282.310,00', '294.810,00', '353.950,00', '850.420,00', '1.243.830,00'], '2023-04-10': ['282.310,00', '258.870,00', '353.950,00', '1.390.680,00'], '2023-04-11': ['258.870,00', '353.950,00', '375.850,00', '325.750,00'], '2023-04-12': ['258.870,00', '353.950,00', '448.320,00'], '2023-04-13': ['258.870,00', '353.950,00', '325.750,00', '620.390,00'], '2023-04-14': [], '2023-04-15': ['258.870,00', '353.950,00', '325.750,00', '471.520,00'], '2023-04-16': ['258.870,00', '294.810,00', '353.950,00', '325.750,00'], '2023-04-17': ['258.870,00', '353.950,00', '375.850,00'], '2023-04-18': ['258.870,00', '353.950,00', '375.850,00', '325.750,00'], '2023-04-19': ['258.870,00', '353.950,00', '530.790,00'], '2023-04-20': ['258.870,00', '353.950,00', '325.750,00', '620.390,00'], '2023-04-21': ['258.870,00', '360.020,00', '282.310,00', '422.620,00', '389.890,00'], '2023-04-22': ['258.870,00', '353.950,00', '325.750,00', '471.520,00'], '2023-04-23': ['258.870,00', '353.950,00', '325.750,00'], '2023-04-24': ['258.870,00', '353.950,00', '375.850,00'], '2023-04-25': ['258.870,00', '294.810,00', '353.950,00', '375.850,00', '325.750,00'], '2023-04-26': ['258.870,00', '353.950,00', '448.320,00'], '2023-04-27': ['258.870,00', '353.950,00', '325.750,00', '910.040,00'], '2023-04-28': ['258.870,00', '294.810,00', '422.620,00', '439.630,00'], '2023-04-29': ['258.870,00', '282.310,00', '265.650,00', '353.950,00', '1.243.830,00', '1.265.730,00'], '2023-04-30': ['258.870,00', '353.950,00', '325.750,00']}\n"
     ]
    }
   ],
   "source": [
    "from selenium import webdriver\n",
    "from selenium.webdriver.chrome.options import Options\n",
    "from bs4 import BeautifulSoup\n",
    "\n",
    "# Configura opciones para el navegador\n",
    "options = Options()\n",
    "options.add_argument('--headless')\n",
    "options.add_argument('--user-agent=Mozilla/5.0 (Windows NT 10.0; Win64; x64) AppleWebKit/537.36 (KHTML, like Gecko) Chrome/88.0.4324.96 Safari/537.36')\n",
    "\n",
    "\n",
    "# Dates\n",
    "dates = ['2023-04-01', '2023-04-02', '2023-04-03', '2023-04-04', '2023-04-05', '2023-04-06', '2023-04-07', '2023-04-08', '2023-04-09', '2023-04-10', '2023-04-11', '2023-04-12', '2023-04-13', '2023-04-14', '2023-04-15', '2023-04-16', '2023-04-17', '2023-04-18', '2023-04-19', '2023-04-20', '2023-04-21', '2023-04-22', '2023-04-23', '2023-04-24', '2023-04-25', '2023-04-26', '2023-04-27', '2023-04-28', '2023-04-29', '2023-04-30']\n",
    "prices = {}\n",
    "\n",
    "for date in dates:\n",
    "\n",
    "    driver = webdriver.Chrome(options=options)\n",
    "    url = f'https://www.latamairlines.com/co/es/ofertas-vuelos?origin=BOG&inbound=null&outbound={date}T17%3A00%3A00.000Z&destination=BGA&adt=1&chd=0&inf=0&trip=OW&cabin=Economy&redemption=false&sort=RECOMMENDED'\n",
    "    driver.get(url)\n",
    "    html = driver.page_source\n",
    "    driver.quit()\n",
    "\n",
    "    soup = BeautifulSoup(html, 'html.parser')\n",
    "    spans = soup.find_all('span', {'class': 'display-currencystyle__CurrencyAmount-sc__sc-19mlo29-2 fMjBKP'})\n",
    "    prices[date] = []\n",
    "    for span in spans:\n",
    "        texto = span.text.strip() \n",
    "        if texto not in prices[date]:\n",
    "            prices[date].append(texto)\n",
    "\n",
    "print(\"Latam Airlines: \", prices)"
   ]
  }
 ],
 "metadata": {
  "kernelspec": {
   "display_name": "base",
   "language": "python",
   "name": "python3"
  },
  "language_info": {
   "codemirror_mode": {
    "name": "ipython",
    "version": 3
   },
   "file_extension": ".py",
   "mimetype": "text/x-python",
   "name": "python",
   "nbconvert_exporter": "python",
   "pygments_lexer": "ipython3",
   "version": "3.9.13"
  },
  "orig_nbformat": 4
 },
 "nbformat": 4,
 "nbformat_minor": 2
}
