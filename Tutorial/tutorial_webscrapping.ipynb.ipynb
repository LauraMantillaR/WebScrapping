{
 "cells": [
  {
   "cell_type": "code",
   "execution_count": 1,
   "metadata": {},
   "outputs": [
    {
     "name": "stdout",
     "output_type": "stream",
     "text": [
      "Requirement already satisfied: beautifulsoup4 in c:\\users\\lmmantilla\\anaconda3\\lib\\site-packages (4.11.1)\n",
      "Requirement already satisfied: soupsieve>1.2 in c:\\users\\lmmantilla\\anaconda3\\lib\\site-packages (from beautifulsoup4) (2.3.1)\n",
      "Note: you may need to restart the kernel to use updated packages.\n"
     ]
    }
   ],
   "source": [
    "pip install beautifulsoup4"
   ]
  },
  {
   "cell_type": "code",
   "execution_count": 2,
   "metadata": {},
   "outputs": [
    {
     "name": "stdout",
     "output_type": "stream",
     "text": [
      "Collecting MechanicalSoup\n",
      "  Downloading MechanicalSoup-1.2.0-py3-none-any.whl (19 kB)\n",
      "Requirement already satisfied: beautifulsoup4>=4.7 in c:\\users\\lmmantilla\\anaconda3\\lib\\site-packages (from MechanicalSoup) (4.11.1)\n",
      "Requirement already satisfied: lxml in c:\\users\\lmmantilla\\anaconda3\\lib\\site-packages (from MechanicalSoup) (4.9.1)\n",
      "Requirement already satisfied: requests>=2.22.0 in c:\\users\\lmmantilla\\anaconda3\\lib\\site-packages (from MechanicalSoup) (2.28.1)\n",
      "Requirement already satisfied: soupsieve>1.2 in c:\\users\\lmmantilla\\anaconda3\\lib\\site-packages (from beautifulsoup4>=4.7->MechanicalSoup) (2.3.1)\n",
      "Requirement already satisfied: urllib3<1.27,>=1.21.1 in c:\\users\\lmmantilla\\anaconda3\\lib\\site-packages (from requests>=2.22.0->MechanicalSoup) (1.26.11)\n",
      "Requirement already satisfied: idna<4,>=2.5 in c:\\users\\lmmantilla\\anaconda3\\lib\\site-packages (from requests>=2.22.0->MechanicalSoup) (3.3)\n",
      "Requirement already satisfied: charset-normalizer<3,>=2 in c:\\users\\lmmantilla\\anaconda3\\lib\\site-packages (from requests>=2.22.0->MechanicalSoup) (2.0.4)\n",
      "Requirement already satisfied: certifi>=2017.4.17 in c:\\users\\lmmantilla\\anaconda3\\lib\\site-packages (from requests>=2.22.0->MechanicalSoup) (2022.9.14)\n",
      "Installing collected packages: MechanicalSoup\n",
      "Successfully installed MechanicalSoup-1.2.0\n",
      "Note: you may need to restart the kernel to use updated packages.\n"
     ]
    }
   ],
   "source": [
    "pip install MechanicalSoup"
   ]
  },
  {
   "cell_type": "code",
   "execution_count": 3,
   "metadata": {},
   "outputs": [
    {
     "name": "stdout",
     "output_type": "stream",
     "text": [
      "<http.client.HTTPResponse object at 0x000002BAA2ADC4F0>\n",
      "<html>\n",
      "<head>\n",
      "<title>Profile: Aphrodite</title>\n",
      "</head>\n",
      "<body bgcolor=\"yellow\">\n",
      "<center>\n",
      "<br><br>\n",
      "<img src=\"/static/aphrodite.gif\" />\n",
      "<h2>Name: Aphrodite</h2>\n",
      "<br><br>\n",
      "Favorite animal: Dove\n",
      "<br><br>\n",
      "Favorite color: Red\n",
      "<br><br>\n",
      "Hometown: Mount Olympus\n",
      "</center>\n",
      "</body>\n",
      "</html>\n",
      "\n"
     ]
    }
   ],
   "source": [
    "#urllib es una libreria estandar que permite hacer peticiones a servidores web\n",
    "from urllib.request import urlopen\n",
    "\n",
    "#Definimos el string de la url\n",
    "url = \"http://olympus.realpython.org/profiles/aphrodite\"\n",
    "\n",
    "# Abrimos la url y la guardamos en la variable page\n",
    "page = urlopen(url)\n",
    "\n",
    "# url retorna un objeto de tipo http.client.HTTPResponse\n",
    "print(f\"{page}\")\n",
    "\n",
    "#Para extraer el contenido de la pagina web, usamos el metodo read()\n",
    "html_bytes = page.read()\n",
    "\n",
    "#Luego usamos decode() para convertir los bytes a un string\n",
    "html = html_bytes.decode(\"utf-8\")\n",
    "\n",
    "print(f\"{html}\")\n",
    "\n",
    "#visitar la pagina http://olympus.realpython.org/profiles/aphrodite"
   ]
  },
  {
   "cell_type": "code",
   "execution_count": 4,
   "metadata": {},
   "outputs": [
    {
     "name": "stdout",
     "output_type": "stream",
     "text": [
      "21\n",
      "39\n",
      "Profile: Aphrodite\n"
     ]
    }
   ],
   "source": [
    "# Ahora debemos usar string methods para extraer información de la pagina web\n",
    "# Usamos el método find para encontrar el indice del string\"<title>\"\n",
    "# Adicional debemos sumar el tamaño de \"<title>\" para que el indice apunte al inicio del string\n",
    "start_index = html.find(\"<title>\") + len(\"<title>\")\n",
    "print(f\"{start_index}\")\n",
    "\n",
    "# Ahora hallamos el indice del string \"</title>\"\n",
    "end_index = html.find(\"</title>\") # Ejercicio\n",
    "print(f\"{end_index}\")             # Ejercicio\n",
    "\n",
    "# finalmente extraemos el titulo de la pagina web\n",
    "title = html[start_index:end_index]  # Ejercicio\n",
    "print(f\"{title}\")                    # Ejercicio\n",
    "\n"
   ]
  },
  {
   "attachments": {},
   "cell_type": "markdown",
   "metadata": {},
   "source": [
    "### Cuando las cosas se ponen complicated"
   ]
  },
  {
   "cell_type": "code",
   "execution_count": 13,
   "metadata": {},
   "outputs": [
    {
     "name": "stdout",
     "output_type": "stream",
     "text": [
      "<html>\n",
      "<head>\n",
      "<title >Profile: Poseidon</title>\n",
      "</head>\n",
      "<body bgcolor=\"yellow\">\n",
      "<center>\n",
      "<br><br>\n",
      "<img src=\"/static/poseidon.jpg\" />\n",
      "<h2>Name: Poseidon</h2>\n",
      "<br><br>\n",
      "Favorite animal: Dolphin\n",
      "<br><br>\n",
      "Favorite color: Blue\n",
      "<br><br>\n",
      "Hometown: Sea\n",
      "</center>\n",
      "</body>\n",
      "</html>\n",
      "\n",
      "\n",
      "<head>\n",
      "<title >Profile: Poseidon\n"
     ]
    }
   ],
   "source": [
    "url = \"http://olympus.realpython.org/profiles/poseidon\"\n",
    "page = urlopen(url)\n",
    "html = page.read().decode(\"utf-8\")\n",
    "print(f\"{html}\")\n",
    "\n",
    "# Si find no encuentra el string buscado, retorna -1\n",
    "start_index = html.find(\"<title>\") + len(\"<title>\")\n",
    "end_index = html.find(\"</title>\")\n",
    "title = html[start_index:end_index]\n",
    "print(f\"{title}\")\n"
   ]
  },
  {
   "attachments": {},
   "cell_type": "markdown",
   "metadata": {},
   "source": [
    "#### Como lo arreglamos?\n",
    "##### Regex --> Alias Expresiones Regulares --> Alias Cositas para jugar\n"
   ]
  },
  {
   "cell_type": "code",
   "execution_count": 48,
   "metadata": {},
   "outputs": [
    {
     "name": "stdout",
     "output_type": "stream",
     "text": [
      "['abso']\n",
      "[]\n",
      "['bso', 'o']\n",
      "['abso']\n"
     ]
    },
    {
     "data": {
      "text/plain": [
       "['ABC']"
      ]
     },
     "execution_count": 48,
     "metadata": {},
     "output_type": "execute_result"
    }
   ],
   "source": [
    "import re # re es una libreria estandar que permite usar expresiones regulares\n",
    "#El ejemplo busca\"a\" seguido de 0 o mas \"b\" seguido de 0 o mas \"s\" y luego \"o\"\n",
    "# caracter + * = 0 o mas veces\n",
    "# findall busca todas las ocurrencias en el string\n",
    "print(re.findall(\"ab*s*o\",\"absorto\"))\n",
    "print(re.findall(\"ab*o\",\"absorto\"))\n",
    "print(re.findall(\"a*b*s*o\",\"bsorto\"))\n",
    "print(re.findall(\"abs*o\",\"absorto\"))\n"
   ]
  },
  {
   "cell_type": "code",
   "execution_count": 49,
   "metadata": {},
   "outputs": [
    {
     "name": "stdout",
     "output_type": "stream",
     "text": [
      "[]\n",
      "['ABC']\n"
     ]
    }
   ],
   "source": [
    "# y las mayusculas?\n",
    "print(re.findall(\"ab*c\", \"ABC\"))\n",
    "print(re.findall(\"ab*c\", \"ABC\", re.IGNORECASE))"
   ]
  },
  {
   "cell_type": "code",
   "execution_count": 56,
   "metadata": {},
   "outputs": [
    {
     "name": "stdout",
     "output_type": "stream",
     "text": [
      "['abc']\n",
      "[]\n",
      "[]\n",
      "['adc']\n",
      "['abc']\n"
     ]
    }
   ],
   "source": [
    "# Para indicar un caracter entre 2 caracteres usamos .\n",
    "print(re.findall(\"a.c\", \"abc\"))\n",
    "print(re.findall(\"a.c\", \"abbc\"))\n",
    "print(re.findall(\"a.c\", \"ac\"))\n",
    "print(re.findall(\"a.c\", \"adc\"))\n"
   ]
  },
  {
   "cell_type": "code",
   "execution_count": 81,
   "metadata": {},
   "outputs": [
    {
     "name": "stdout",
     "output_type": "stream",
     "text": [
      "['abc']\n",
      "['abdc']\n",
      "['ac']\n",
      "['acc']\n",
      "['acc']\n",
      "['aicdexaiudac']\n"
     ]
    }
   ],
   "source": [
    "# Ahora la fusión del . y el * el .* busca cualquier substring.\n",
    "# Ejemplo \n",
    "regex = \"a.*c\"\n",
    "print(re.findall(regex,\"abc\"))\n",
    "print(re.findall(regex,\"abdc\"))\n",
    "print(re.findall(regex,\"ac\"))\n",
    "print(re.findall(regex,\"acc\"))\n",
    "print(re.findall(regex,\"acc\"))\n",
    "print(re.findall(regex,\"aicdexaiudacs\"))"
   ]
  },
  {
   "cell_type": "code",
   "execution_count": 77,
   "metadata": {},
   "outputs": [
    {
     "name": "stdout",
     "output_type": "stream",
     "text": [
      "<re.Match object; span=(0, 3), match='ABC'>, tipo: <class 're.Match'>\n",
      "ABC, tipo: <class 'str'>\n",
      "['San Roque no tiene rab', 'sobra pata y le sob', 'sobra nariz y le sob', 'sobra oreja y le sobra b', 'sobra cuello y le sobra cab']\n",
      "San Roque no tiene rab\n"
     ]
    }
   ],
   "source": [
    "#Ahora la función re.search() busca la primera ocurrencia del string\n",
    "resultados = re.search(\"ab*c\",\"ABC\",re.IGNORECASE)\n",
    "print(f\"{resultados}, tipo: {type(resultados)}\")\n",
    "print(f\"{resultados.group()}, tipo: {type(resultados.group())}\")\n",
    "\n",
    "# Principal Diferencia entre findall y search es que findall retorna una lista de strings \n",
    "# y search retorna un objeto de tipo Match (que es un objeto iterable) y el metodo group() retorna el string encontrado.\n",
    "cadena = \"El perro de San Roque no tiene rabo \\n \\\n",
    "          pero le sobra pata y le sobra cola \\n \\\n",
    "          y le sobra nariz y le sobra ojo \\n \\\n",
    "          y le sobra oreja y le sobra boca \\n \\\n",
    "          y le sobra cuello y le sobra cabeza \"\n",
    "regex = \"s.*b\"\n",
    "print(re.findall(regex,cadena,re.IGNORECASE))\n",
    "print(re.search(regex,cadena,re.IGNORECASE).group())\n"
   ]
  },
  {
   "cell_type": "code",
   "execution_count": 79,
   "metadata": {},
   "outputs": [
    {
     "name": "stdout",
     "output_type": "stream",
     "text": [
      "Este animal llamado elefante es de color elefante.\n"
     ]
    }
   ],
   "source": [
    "# Ahora probemos el metodo re.sub() que permite reemplazar un string por otro\n",
    "# sub .... subsitution \n",
    "# Aqui la regex entrega mas de una coincidencia en vez de entregar toda la cadena.\n",
    "# Porque?? \n",
    "#contexto: regex es greedy por defecto, es decir, busca la mayor coincidencia posible.\n",
    "# Para evitar esto usamos el caracter ? que indica que la regex debe parar cada vez que se cumpla la coincidencia para evaluar de nuevo.\n",
    "\n",
    "string = \"Este animal llamado <replaced> es de color <tags>.\"\n",
    "string = re.sub(\"<.*?>\", \"elefante\", string)\n",
    "print(f\"{string}\")"
   ]
  },
  {
   "attachments": {},
   "cell_type": "markdown",
   "metadata": {},
   "source": [
    "### Nos olvidamos del HTML... Maldita sea!!"
   ]
  },
  {
   "cell_type": "code",
   "execution_count": 92,
   "metadata": {},
   "outputs": [
    {
     "name": "stdout",
     "output_type": "stream",
     "text": [
      "<title >Profile: Poseidon</title>\n",
      "Profile: Poseidon\n"
     ]
    }
   ],
   "source": [
    "#Ejercicio intentar sacar el titulo de la pagina http://olympus.realpython.org/profiles/poseidon\n",
    "\n",
    "import re\n",
    "from urllib.request import urlopen\n",
    "\n",
    "url = \"http://olympus.realpython.org/profiles/poseidon\"\n",
    "page = urlopen(url)\n",
    "html = page.read().decode(\"utf-8\")\n",
    "\n",
    "#Definimos una regex que evalue si hay cualquier cosa entre la etiqueta titulo\n",
    "pattern = \"<title.*?>.*?</title.*?>\"\n",
    "#pattern = \"<title[\\s]*?>.*?</title[\\s]*?>\"\n",
    "match_results = re.search(pattern, html, re.IGNORECASE)\n",
    "title = match_results.group()\n",
    "print(title)\n",
    "\n",
    "title = re.sub(\"<.*?>\", \"\", title) # Remove HTML tags\n",
    "\n",
    "print(title)"
   ]
  },
  {
   "attachments": {},
   "cell_type": "markdown",
   "metadata": {},
   "source": [
    "#### La bella sopita (BeautifulSoup)"
   ]
  },
  {
   "cell_type": "code",
   "execution_count": 102,
   "metadata": {},
   "outputs": [
    {
     "name": "stdout",
     "output_type": "stream",
     "text": [
      "\n",
      "\n",
      "Profile: Dionysus\n",
      "\n",
      "\n",
      "\n",
      "\n",
      "\n",
      "Name: Dionysus\n",
      "\n",
      "Hometown: Mount Olympus\n",
      "\n",
      "Favorite animal: Leopard \n",
      "\n",
      "Favorite Color: Wine\n",
      "\n",
      "\n",
      "\n",
      "\n"
     ]
    },
    {
     "data": {
      "text/plain": [
       "'Profile: Dionysus'"
      ]
     },
     "execution_count": 102,
     "metadata": {},
     "output_type": "execute_result"
    }
   ],
   "source": [
    "from bs4 import BeautifulSoup\n",
    "from urllib.request import urlopen\n",
    "\n",
    "url = \"http://olympus.realpython.org/profiles/dionysus\"\n",
    "page = urlopen(url)\n",
    "html = page.read().decode(\"utf-8\")\n",
    "soup = BeautifulSoup(html, \"html.parser\")\n",
    "\n",
    "print(soup.get_text())\n"
   ]
  },
  {
   "cell_type": "code",
   "execution_count": 104,
   "metadata": {},
   "outputs": [
    {
     "name": "stdout",
     "output_type": "stream",
     "text": [
      "title\n",
      "Profile: Dionysus\n"
     ]
    }
   ],
   "source": [
    "print(soup.title.name)\n",
    "print(soup.title.string)\n"
   ]
  },
  {
   "cell_type": "code",
   "execution_count": 111,
   "metadata": {},
   "outputs": [
    {
     "name": "stdout",
     "output_type": "stream",
     "text": [
      "img\n",
      "/static/dionysus.jpg\n",
      "img\n",
      "/static/grapes.png\n"
     ]
    },
    {
     "data": {
      "text/plain": [
       "[<img src=\"/static/dionysus.jpg\"/>]"
      ]
     },
     "execution_count": 111,
     "metadata": {},
     "output_type": "execute_result"
    }
   ],
   "source": [
    "images = soup.find_all(\"img\")\n",
    "\n",
    "for image in images:\n",
    "    print(image.name)\n",
    "    print(image[\"src\"])\n",
    "\n",
    "#Tambien podemos buscar por atributos\n",
    "soup.find_all(\"img\", src=\"/static/dionysus.jpg\")"
   ]
  },
  {
   "cell_type": "code",
   "execution_count": null,
   "metadata": {},
   "outputs": [],
   "source": [
    "# Otro ejercicio en clase\n",
    "#Write a program that grabs the full HTML from the page at the URL http://olympus.realpython.org/profiles."
   ]
  },
  {
   "attachments": {},
   "cell_type": "markdown",
   "metadata": {},
   "source": [
    "#### Interactuando con Formularios HTML"
   ]
  },
  {
   "cell_type": "code",
   "execution_count": 118,
   "metadata": {},
   "outputs": [
    {
     "name": "stdout",
     "output_type": "stream",
     "text": [
      "<Response [200]>\n",
      "<html>\n",
      "<head>\n",
      "<title>Log In</title>\n",
      "</head>\n",
      "<body bgcolor=\"yellow\">\n",
      "<center>\n",
      "<br/><br/>\n",
      "<h2>Please log in to access Mount Olympus:</h2>\n",
      "<br/><br/>\n",
      "<form action=\"/login\" method=\"post\" name=\"login\">\n",
      "Username: <input name=\"user\" type=\"text\"/><br/>\n",
      "Password: <input name=\"pwd\" type=\"password\"/><br/><br/>\n",
      "<input type=\"submit\" value=\"Submit\"/>\n",
      "</form>\n",
      "</center>\n",
      "</body>\n",
      "</html>\n",
      ", type: <class 'bs4.BeautifulSoup'>\n"
     ]
    },
    {
     "data": {
      "text/plain": [
       "'http://olympus.realpython.org/profiles'"
      ]
     },
     "execution_count": 118,
     "metadata": {},
     "output_type": "execute_result"
    }
   ],
   "source": [
    "import mechanicalsoup\n",
    "\n",
    "browser = mechanicalsoup.Browser()\n",
    "url = \"http://olympus.realpython.org/login\"\n",
    "page = browser.get(url)\n",
    "print(f\"{page}\")\n",
    "print(f\"{page.soup}, type: {type(page.soup)}\")\n",
    "\n",
    "\n"
   ]
  },
  {
   "cell_type": "code",
   "execution_count": 126,
   "metadata": {},
   "outputs": [
    {
     "name": "stdout",
     "output_type": "stream",
     "text": [
      " <Response [200]>, <class 'requests.models.Response'> , http://olympus.realpython.org/profiles\n"
     ]
    }
   ],
   "source": [
    "#Para el ejemplo tenemos user:zeus\tpass:ThunderDude\n",
    "\n",
    "login_page = browser.get(url) # Elemento soup\n",
    "login_html = login_page.soup  # El HTML\n",
    "\n",
    "form = login_html.select(\"form\")[0]    # Seleccionamos el primer formulario\n",
    "form.select(\"input\")[0][\"value\"] = \"zeus\" # Seleccionamos el primer input y le asignamos el valor\n",
    "form.select(\"input\")[1][\"value\"] = \"ThunderDude\"   # Seleccionamos el segundo input y le asignamos el valor\n",
    "\n",
    "profiles_page = browser.submit(form, login_page.url) # Enviamos el formulario\n",
    "\n",
    "print(f\" {profiles_page}, {type(profiles_page)} , {profiles_page.url}\")"
   ]
  },
  {
   "cell_type": "code",
   "execution_count": 132,
   "metadata": {},
   "outputs": [
    {
     "name": "stdout",
     "output_type": "stream",
     "text": [
      "Aphrodite: http://olympus.realpython.org/profiles/aphrodite\n",
      "Poseidon: http://olympus.realpython.org/profiles/poseidon\n",
      "Dionysus: http://olympus.realpython.org/profiles/dionysus\n"
     ]
    }
   ],
   "source": [
    "base_url = \"http://olympus.realpython.org\"\n",
    "links = profiles_page.soup.select(\"a\")\n",
    "\n",
    "for link in links:\n",
    "    address = base_url +  link[\"href\"]\n",
    "    text    = link.text\n",
    "    print(f\"{text}: {address}\")"
   ]
  },
  {
   "attachments": {},
   "cell_type": "markdown",
   "metadata": {},
   "source": [
    "##### El ejercicio del dado"
   ]
  },
  {
   "cell_type": "code",
   "execution_count": 136,
   "metadata": {},
   "outputs": [
    {
     "name": "stdout",
     "output_type": "stream",
     "text": [
      "El resultado de rodar el dado es: 4\n"
     ]
    }
   ],
   "source": [
    "url = \"http://olympus.realpython.org/dice\"\n",
    "\n",
    "# Si miramos un poco mas a fondo el resultado de la pagina dice.html esta en la etiqueta h2 con un id=\"result\"\n",
    "\n",
    "import mechanicalsoup\n",
    "\n",
    "browser = mechanicalsoup.Browser()\n",
    "page = browser.get(\"http://olympus.realpython.org/dice\")\n",
    "\n",
    "# select usa el selector # de css para seleccionar el elemento con el id=\"result\" id= --> #\n",
    "tag = page.soup.select(\"#result\")[0]\n",
    "result = tag.text\n",
    "\n",
    "print(f\"El resultado de rodar el dado es: {result}\")"
   ]
  },
  {
   "cell_type": "code",
   "execution_count": 137,
   "metadata": {},
   "outputs": [
    {
     "name": "stdout",
     "output_type": "stream",
     "text": [
      "voy a descansar unos 5 segunditos...\n",
      "ya descansé!\n"
     ]
    }
   ],
   "source": [
    "# Automatizando otro poquito mas\n",
    "import time\n",
    "\n",
    "print(\"voy a descansar unos 5 segunditos...\")\n",
    "time.sleep(5)\n",
    "print(\"ya descansé!\")"
   ]
  },
  {
   "cell_type": "code",
   "execution_count": 139,
   "metadata": {},
   "outputs": [
    {
     "name": "stdout",
     "output_type": "stream",
     "text": [
      "El resultado de rodar el dado es: 3\n",
      "El resultado de rodar el dado es: 4\n",
      "El resultado de rodar el dado es: 5\n",
      "El resultado de rodar el dado es: 4\n"
     ]
    }
   ],
   "source": [
    "import time\n",
    "import mechanicalsoup\n",
    "\n",
    "browser = mechanicalsoup.Browser()\n",
    "\n",
    "for i in range(4):\n",
    "    page = browser.get(\"http://olympus.realpython.org/dice\")\n",
    "    tag = page.soup.select(\"#result\")[0]\n",
    "    result = tag.text\n",
    "    print(f\"El resultado de rodar el dado es: {result}\")\n",
    "\n",
    "    # Wait 10 seconds if this isn't the last request\n",
    "    if i < 3:\n",
    "        time.sleep(5)"
   ]
  },
  {
   "cell_type": "code",
   "execution_count": null,
   "metadata": {},
   "outputs": [],
   "source": [
    "#elegir a 4 webs de aerolineas\n",
    "#realizar una consulta y traer la lista de vuelos de todo el siguiente mes desde bogota hacia algun destino \n",
    "#ordenados desde el mas barato al mas caro, mostrar el precio y la aerolinea."
   ]
  }
 ],
 "metadata": {
  "kernelspec": {
   "display_name": "Python 3",
   "language": "python",
   "name": "python3"
  },
  "language_info": {
   "codemirror_mode": {
    "name": "ipython",
    "version": 3
   },
   "file_extension": ".py",
   "mimetype": "text/x-python",
   "name": "python",
   "nbconvert_exporter": "python",
   "pygments_lexer": "ipython3",
   "version": "3.9.13"
  },
  "orig_nbformat": 4
 },
 "nbformat": 4,
 "nbformat_minor": 2
}
